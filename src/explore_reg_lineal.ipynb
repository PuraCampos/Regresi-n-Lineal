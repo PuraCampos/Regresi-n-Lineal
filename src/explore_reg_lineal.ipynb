{
 "cells": [
  {
   "cell_type": "code",
   "execution_count": 4,
   "metadata": {},
   "outputs": [],
   "source": [
    "import pandas as pd"
   ]
  },
  {
   "cell_type": "code",
   "execution_count": 5,
   "metadata": {},
   "outputs": [],
   "source": [
    "total_data_con=pd.read_csv(\"/workspaces/Regresi-n-Lineal/data/processed/total_data_sin.csv\")\n",
    "X_train_norm=pd.read_csv(\"/workspaces/Regresi-n-Lineal/data/processed/x_train_norm.csv\")\n",
    "X_test_norm=pd.read_csv(\"/workspaces/Regresi-n-Lineal/data/processed/x_test_norm.csv\")\n",
    "X_train_scal=pd.read_csv(\"/workspaces/Regresi-n-Lineal/data/processed/x_train_scal.csv\")\n",
    "X_test_scal=pd.read_csv(\"/workspaces/Regresi-n-Lineal/data/processed/x_test_scal.csv\")\n",
    "X_train_sel=pd.read_csv(\"/workspaces/Regresi-n-Lineal/data/processed/x_train_sel.csv\")\n",
    "X_test_sel=pd.read_csv(\"/workspaces/Regresi-n-Lineal/data/processed/x_test_sel.csv\")\n",
    "y_train=pd.read_csv(\"/workspaces/Regresi-n-Lineal/data/processed/y_train.csv\")\n",
    "y_test=pd.read_csv(\"/workspaces/Regresi-n-Lineal/data/processed/y_test.csv\")"
   ]
  }
 ],
 "metadata": {
  "kernelspec": {
   "display_name": "Python 3",
   "language": "python",
   "name": "python3"
  },
  "language_info": {
   "codemirror_mode": {
    "name": "ipython",
    "version": 3
   },
   "file_extension": ".py",
   "mimetype": "text/x-python",
   "name": "python",
   "nbconvert_exporter": "python",
   "pygments_lexer": "ipython3",
   "version": "3.10.12"
  }
 },
 "nbformat": 4,
 "nbformat_minor": 2
}
